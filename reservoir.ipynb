{
 "cells": [
  {
   "cell_type": "markdown",
   "metadata": {},
   "source": [
    "# Reservoir for Sequential Data"
   ]
  },
  {
   "cell_type": "code",
   "execution_count": 1,
   "metadata": {},
   "outputs": [],
   "source": [
    "import torch\n",
    "import torch.nn as nn\n",
    "import numpy as np\n",
    "import matplotlib.pyplot as plt\n",
    "from sklearn.linear_model import Ridge, LinearRegression\n",
    "from sklearn.metrics import mean_squared_error"
   ]
  },
  {
   "cell_type": "code",
   "execution_count": 2,
   "metadata": {},
   "outputs": [],
   "source": [
    "class EchoStateNetwork:\n",
    "    def __init__(self, input_dim, reservoir_size, output_dim, spectral_radius=0.9, alpha=1e-6):\n",
    "        self.input_dim = input_dim\n",
    "        self.reservoir_size = reservoir_size\n",
    "        self.output_dim = output_dim\n",
    "        self.spectral_radius = spectral_radius\n",
    "        self.alpha = alpha\n",
    "        self.initialize_weights()\n",
    "        self.readout = Ridge(alpha=self.alpha)\n",
    "\n",
    "    def initialize_weights(self):\n",
    "        self.Win = torch.rand((self.reservoir_size, self.input_dim)) * 2 - 1\n",
    "        self.W = torch.rand((self.reservoir_size, self.reservoir_size)) * 2 - 1\n",
    "        self.adjust_spectral_radius()\n",
    "        \n",
    "    def adjust_spectral_radius(self):\n",
    "        eigenvalues, _ = torch.linalg.eig(self.W)\n",
    "        rhoW = max(abs(eigenvalues))\n",
    "        self.W *= self.spectral_radius / rhoW\n",
    "\n",
    "    def train(self, train_data, target_data):\n",
    "        state = torch.zeros(self.reservoir_size)\n",
    "        states = []\n",
    "        \n",
    "        for t in range(len(train_data)):\n",
    "            u = torch.tensor([train_data[t]], dtype=torch.float32)\n",
    "            state = torch.tanh(self.Win @ u + self.W @ state)\n",
    "            states.append(state.numpy())\n",
    "        \n",
    "        states = np.array(states)\n",
    "        self.readout.fit(states, target_data)\n",
    "        predictions = self.readout.predict(states)\n",
    "        return predictions\n",
    "\n",
    "def train_esn(model, train_data, target_data, test_data, test_target, num_trials=50):\n",
    "    results = []\n",
    "    test_results = []\n",
    "    for trial in range(num_trials):\n",
    "        torch.manual_seed(trial)\n",
    "        np.random.seed(trial)  # Ensure NumPy is also seeded\n",
    "        model.initialize_weights()\n",
    "\n",
    "        predictions = model.train(train_data, target_data)\n",
    "        mse = mean_squared_error(target_data, predictions)\n",
    "        results.append(mse)\n",
    "    \n",
    "        # Evaluate on test set\n",
    "        test_predictions = model.train(test_data, test_target)\n",
    "        test_mse = mean_squared_error(test_target, test_predictions)\n",
    "        test_results.append(test_mse)\n",
    "        \n",
    "        print(f'Trial {trial + 1}/{num_trials}: Train MSE = {mse}, Test MSE = {test_mse}')\n",
    "    return results, test_results"
   ]
  },
  {
   "cell_type": "code",
   "execution_count": 3,
   "metadata": {},
   "outputs": [],
   "source": [
    "def baseline_model(train_data, target_data, test_data, test_target):\n",
    "    model = LinearRegression()\n",
    "    model.fit(train_data.reshape(-1, 1), target_data)\n",
    "    train_predictions = model.predict(train_data.reshape(-1, 1))\n",
    "    test_predictions = model.predict(test_data.reshape(-1, 1))\n",
    "    train_mse = mean_squared_error(target_data, train_predictions)\n",
    "    test_mse = mean_squared_error(test_target, test_predictions)\n",
    "    return train_mse, test_mse"
   ]
  },
  {
   "cell_type": "code",
   "execution_count": 5,
   "metadata": {},
   "outputs": [],
   "source": [
    "def mackey_glass(T, tau=17, n=10, beta=0.2, gamma=0.1):\n",
    "    x = np.zeros(T)\n",
    "    x[0] = 1.2\n",
    "    for t in range(1, T):\n",
    "        if t - tau >= 0:\n",
    "            x[t] = x[t-1] + beta * x[t-tau] / (1 + x[t-tau]**n) - gamma * x[t-1]\n",
    "        else:\n",
    "            x[t] = x[t-1]\n",
    "    return x"
   ]
  },
  {
   "cell_type": "code",
   "execution_count": 6,
   "metadata": {},
   "outputs": [
    {
     "name": "stdout",
     "output_type": "stream",
     "text": [
      "Trial 1/50: Train MSE = 0.014141706764518256, Test MSE = 0.02583314880938891\n",
      "Trial 2/50: Train MSE = 0.013283701805913673, Test MSE = 0.023183119807389796\n",
      "Trial 3/50: Train MSE = 0.013635773117935629, Test MSE = 0.024390907586079428\n",
      "Trial 4/50: Train MSE = 0.013601536545094457, Test MSE = 0.023273827424109498\n",
      "Trial 5/50: Train MSE = 0.013505257087724144, Test MSE = 0.023914189015117427\n",
      "Trial 6/50: Train MSE = 0.013938276885673872, Test MSE = 0.02574170856875841\n",
      "Trial 7/50: Train MSE = 0.01390492908456615, Test MSE = 0.025489316191268735\n",
      "Trial 8/50: Train MSE = 0.013587816414938954, Test MSE = 0.024172636906397444\n",
      "Trial 9/50: Train MSE = 0.013705599141463763, Test MSE = 0.024578962054267114\n",
      "Trial 10/50: Train MSE = 0.013817790392645102, Test MSE = 0.02526466227624872\n",
      "Trial 11/50: Train MSE = 0.013884169989002099, Test MSE = 0.02546055336945055\n",
      "Trial 12/50: Train MSE = 0.014245300759134185, Test MSE = 0.028112336214827425\n",
      "Trial 13/50: Train MSE = 0.013697304834924772, Test MSE = 0.024762983613036235\n",
      "Trial 14/50: Train MSE = 0.013745844463027148, Test MSE = 0.023926908587284326\n",
      "Trial 15/50: Train MSE = 0.013897264151519846, Test MSE = 0.025243521485033647\n",
      "Trial 16/50: Train MSE = 0.01419021326450797, Test MSE = 0.02583355975104533\n",
      "Trial 17/50: Train MSE = 0.013240856621552326, Test MSE = 0.023108986264908583\n",
      "Trial 18/50: Train MSE = 0.013204069807635024, Test MSE = 0.022526178102166245\n",
      "Trial 19/50: Train MSE = 0.013799337144882693, Test MSE = 0.026152962240838643\n",
      "Trial 20/50: Train MSE = 0.014020511406810704, Test MSE = 0.02515023129288293\n",
      "Trial 21/50: Train MSE = 0.013071196368526397, Test MSE = 0.02185304626842948\n",
      "Trial 22/50: Train MSE = 0.013661247161480863, Test MSE = 0.02484430675743081\n",
      "Trial 23/50: Train MSE = 0.013543381758312333, Test MSE = 0.0236467425233608\n",
      "Trial 24/50: Train MSE = 0.014064607895272939, Test MSE = 0.027397885333321007\n",
      "Trial 25/50: Train MSE = 0.013919030315726175, Test MSE = 0.02378002175638079\n",
      "Trial 26/50: Train MSE = 0.013713124873173443, Test MSE = 0.026247335257599248\n",
      "Trial 27/50: Train MSE = 0.013692037117813211, Test MSE = 0.023629384112220535\n",
      "Trial 28/50: Train MSE = 0.014075654220062676, Test MSE = 0.026375362791071565\n",
      "Trial 29/50: Train MSE = 0.013240151611054686, Test MSE = 0.021983885532909475\n",
      "Trial 30/50: Train MSE = 0.013922976748998433, Test MSE = 0.02389618835591015\n",
      "Trial 31/50: Train MSE = 0.013847115280629492, Test MSE = 0.025998717074508\n",
      "Trial 32/50: Train MSE = 0.013795386581563818, Test MSE = 0.025250933952182357\n",
      "Trial 33/50: Train MSE = 0.0136458251751845, Test MSE = 0.024547306326047926\n",
      "Trial 34/50: Train MSE = 0.013786848169236926, Test MSE = 0.024630872021682397\n",
      "Trial 35/50: Train MSE = 0.013711920537652845, Test MSE = 0.024808659204916685\n",
      "Trial 36/50: Train MSE = 0.013758268123766744, Test MSE = 0.024676161269197118\n",
      "Trial 37/50: Train MSE = 0.013247363217769871, Test MSE = 0.0225915681548644\n",
      "Trial 38/50: Train MSE = 0.014018073376379536, Test MSE = 0.02421710518580405\n",
      "Trial 39/50: Train MSE = 0.013660151987752424, Test MSE = 0.02437190311338508\n",
      "Trial 40/50: Train MSE = 0.013607558868307872, Test MSE = 0.024111450985411776\n",
      "Trial 41/50: Train MSE = 0.01387919636790111, Test MSE = 0.02432776708259739\n",
      "Trial 42/50: Train MSE = 0.013862933336248783, Test MSE = 0.02438359339627855\n",
      "Trial 43/50: Train MSE = 0.013652520353237918, Test MSE = 0.024412703700811826\n",
      "Trial 44/50: Train MSE = 0.013561584588967647, Test MSE = 0.02407150244193216\n",
      "Trial 45/50: Train MSE = 0.013557785145142814, Test MSE = 0.023808127385927406\n",
      "Trial 46/50: Train MSE = 0.013586859874136638, Test MSE = 0.023599415548659936\n",
      "Trial 47/50: Train MSE = 0.013930730452911533, Test MSE = 0.026279369505211512\n",
      "Trial 48/50: Train MSE = 0.013805760363738658, Test MSE = 0.024510865528150846\n",
      "Trial 49/50: Train MSE = 0.013703145026795913, Test MSE = 0.02406473103190637\n",
      "Trial 50/50: Train MSE = 0.013391889622763432, Test MSE = 0.023601349930212925\n",
      "Average Train MSE over 50 trials: 0.013719231684079607\n",
      "Average Test MSE over 50 trials: 0.024560779221776446\n"
     ]
    }
   ],
   "source": [
    "# Generate Mackey-Glass time series data\n",
    "T = 1500\n",
    "data = mackey_glass(T)\n",
    "train_data, train_target = data[:800], data[200:1000]\n",
    "test_data, test_target = data[800:1300], data[1000:1500]\n",
    "\n",
    "neurons = 100  # Number of neurons in the reservoir\n",
    "num_trials = 50  # Number of trials with different initializations\n",
    "input_dim = 1\n",
    "output_dim = 1\n",
    "esn = EchoStateNetwork(input_dim, neurons, output_dim)\n",
    "\n",
    "train_results, test_results = train_esn(esn, train_data, train_target, test_data, test_target, num_trials)\n",
    "print(f'Average Train MSE over {num_trials} trials: {np.mean(train_results)}')\n",
    "print(f'Average Test MSE over {num_trials} trials: {np.mean(test_results)}')\n"
   ]
  },
  {
   "cell_type": "code",
   "execution_count": 7,
   "metadata": {},
   "outputs": [
    {
     "name": "stdout",
     "output_type": "stream",
     "text": [
      "Baseline Train MSE: 0.026879490465194618\n",
      "Baseline Test MSE: 0.04844089867569214\n"
     ]
    }
   ],
   "source": [
    "# Baseline model performance\n",
    "baseline_train_mse, baseline_test_mse = baseline_model(train_data, train_target, test_data, test_target)\n",
    "print(f'Baseline Train MSE: {baseline_train_mse}')\n",
    "print(f'Baseline Test MSE: {baseline_test_mse}')"
   ]
  }
 ],
 "metadata": {
  "kernelspec": {
   "display_name": "doc_task_env",
   "language": "python",
   "name": "python3"
  },
  "language_info": {
   "codemirror_mode": {
    "name": "ipython",
    "version": 3
   },
   "file_extension": ".py",
   "mimetype": "text/x-python",
   "name": "python",
   "nbconvert_exporter": "python",
   "pygments_lexer": "ipython3",
   "version": "3.1.-1"
  }
 },
 "nbformat": 4,
 "nbformat_minor": 2
}
